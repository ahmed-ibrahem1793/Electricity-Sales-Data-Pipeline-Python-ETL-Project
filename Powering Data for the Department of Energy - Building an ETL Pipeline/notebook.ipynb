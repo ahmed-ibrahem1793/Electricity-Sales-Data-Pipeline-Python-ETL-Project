{
 "cells": [
  {
   "cell_type": "markdown",
   "id": "a5693425-9491-4a0c-98e0-664cf6df248b",
   "metadata": {},
   "source": [
    "<center><img src=\"image.png\" width=500></center>\n",
    "<p>\n",
    "\n",
    "You've recently started a new position as a Data Engineer at an energy company. Previously, analysts on other teams had to manually retrieve and clean data every quarter to understand changes in the sales and capability of different energy types. This process normally took days and was something that most analytsts dreaded. Your job is to automate this process by building a data pipeline. You'll write this data pipeline to pull data each month, helping to provide more rapid insights and free up time for your data consumers.\n",
    "\n",
    "You will achieve this using the `pandas` library and its powerful parsing features. You'll be working with two raw files; `electricity_sales.csv` and `electricity_capability_nested.json`. \n",
    "    \n",
    "Below, you'll find a data dictionary for the `electricity_sales.csv` dataset, which you'll be transforming in just a bit. Good luck!\n",
    "\n",
    "| Field | Data Type |\n",
    "| :---- | :-------: |\n",
    "| period  | `str`        |\n",
    "| stateid | `str` |\n",
    "| stateDescription | `str` |\n",
    "| sectorid | `str` |\n",
    "| sectorName | `str` |\n",
    "| price | `float` |\n",
    "| price-units | `str` |"
   ]
  },
  {
   "cell_type": "code",
   "execution_count": 1,
   "id": "408b0fb1-926b-4c41-98e8-15803a1999cb",
   "metadata": {
    "executionCancelledAt": null,
    "executionTime": 4728,
    "lastExecutedAt": 1747401735269,
    "lastExecutedByKernel": "3dd5dda3-6312-4a37-8c92-f3c849112ae9",
    "lastScheduledRunId": null,
    "lastSuccessfullyExecutedCode": "import pandas as pd\nimport json"
   },
   "outputs": [],
   "source": [
    "import pandas as pd\n",
    "import json"
   ]
  },
  {
   "cell_type": "code",
   "execution_count": 2,
   "id": "e79342a8-2eeb-4bcc-92f0-70c5ebec76e5",
   "metadata": {
    "executionCancelledAt": null,
    "executionTime": 46,
    "lastExecutedAt": 1747401735317,
    "lastExecutedByKernel": "3dd5dda3-6312-4a37-8c92-f3c849112ae9",
    "lastScheduledRunId": null,
    "lastSuccessfullyExecutedCode": "def extract_tabular_data(file_path: str):\n    \"\"\"Extract data from a tabular file_format, with pandas.\"\"\"\n    if file_path.endswith(\".csv\"):\n        return pd.read_csv(file_path)\n    elif file_path.endswith(\".parquet\"):\n        return pd.read_parquet(file_path)\n    else:\n        raise Exception(\"Warning: Invalid file extension. Please try with .csv or .parquet!\")  "
   },
   "outputs": [],
   "source": [
    "def extract_tabular_data(file_path: str):\n",
    "    \"\"\"Extract data from a tabular file_format, with pandas.\"\"\"\n",
    "    if file_path.endswith(\".csv\"):\n",
    "        return pd.read_csv(file_path)\n",
    "    elif file_path.endswith(\".parquet\"):\n",
    "        return pd.read_parquet(file_path)\n",
    "    else:\n",
    "        raise Exception(\"Warning: Invalid file extension. Please try with .csv or .parquet!\")  "
   ]
  },
  {
   "cell_type": "code",
   "execution_count": 3,
   "id": "ecbc91c2-e0cc-4ae7-a7e8-ab2a56f1a1a9",
   "metadata": {
    "executionCancelledAt": null,
    "executionTime": 54,
    "lastExecutedAt": 1747401735371,
    "lastExecutedByKernel": "3dd5dda3-6312-4a37-8c92-f3c849112ae9",
    "lastScheduledRunId": null,
    "lastSuccessfullyExecutedCode": "def extract_json_data(file_path):\n    \"\"\"Extract and flatten data from a JSON file.\"\"\"\n    data = pd.read_json(file_path)\n    df = pd.read_json(file_path)\n    return pd.json_normalize(df.to_dict('records'))",
    "outputsMetadata": {
     "0": {
      "height": 550,
      "tableState": {
       "customFilter": {
        "const": {
         "type": "boolean",
         "valid": true,
         "value": true
        },
        "id": "c091695c-7d5c-4c00-a4ed-5e5343471baa",
        "nodeType": "const"
       }
      },
      "type": "dataFrame"
     }
    }
   },
   "outputs": [],
   "source": [
    "def extract_json_data(file_path):\n",
    "    \"\"\"Extract and flatten data from a JSON file.\"\"\"\n",
    "    data = pd.read_json(file_path)\n",
    "    df = pd.read_json(file_path)\n",
    "    return pd.json_normalize(df.to_dict('records'))"
   ]
  },
  {
   "cell_type": "code",
   "execution_count": 4,
   "id": "3cc22273-22b8-4f30-8c11-a746f884509f",
   "metadata": {
    "executionCancelledAt": null,
    "executionTime": 51,
    "lastExecutedAt": 1747401735423,
    "lastExecutedByKernel": "3dd5dda3-6312-4a37-8c92-f3c849112ae9",
    "lastScheduledRunId": null,
    "lastSuccessfullyExecutedCode": "def transform_electricity_sales_data(raw_data: pd.DataFrame):\n    \"\"\"\n    Transform electricity sales to find the total amount of electricity sold\n    in the residential and transportation sectors.\n    To transform the electricity sales data, you'll need to do the following:\n    - Drop any records with NA values in the `price` column. Do this inplace.\n    - Only keep records with a `sectorName` of \"residential\" or \"transportation\".\n    - Create a `month` column using the first 4 characters of the values in `period`.\n    - Create a `year` column using the last 2 characters of the values in `period`.\n    - Return the transformed `DataFrame`, keeping only the columns `year`, `month`, `stateid`, `price` and `price-units`.\n    \"\"\"\n    raw_data.dropna(subset='price' , inplace=True)\n    raw_data=raw_data.loc[(raw_data['sectorName'] == 'residential') | (raw_data['sectorName'] == 'transportation')]\n    raw_data['year'] = raw_data['period'].str[0:4]\n    raw_data['month'] = raw_data['period'].str[-2:]\n    return(raw_data[['year', 'month', 'stateid', 'price', 'price-units']])",
    "outputsMetadata": {
     "0": {
      "height": 550,
      "tableState": {
       "customFilter": {
        "const": {
         "type": "boolean",
         "valid": true,
         "value": true
        },
        "id": "79cee797-2cb3-443f-9f44-223820af48c7",
        "nodeType": "const"
       }
      },
      "type": "dataFrame"
     }
    }
   },
   "outputs": [],
   "source": [
    "def transform_electricity_sales_data(raw_data: pd.DataFrame):\n",
    "    \"\"\"\n",
    "    Transform electricity sales to find the total amount of electricity sold\n",
    "    in the residential and transportation sectors.\n",
    "    To transform the electricity sales data, you'll need to do the following:\n",
    "    - Drop any records with NA values in the `price` column. Do this inplace.\n",
    "    - Only keep records with a `sectorName` of \"residential\" or \"transportation\".\n",
    "    - Create a `month` column using the first 4 characters of the values in `period`.\n",
    "    - Create a `year` column using the last 2 characters of the values in `period`.\n",
    "    - Return the transformed `DataFrame`, keeping only the columns `year`, `month`, `stateid`, `price` and `price-units`.\n",
    "    \"\"\"\n",
    "    raw_data.dropna(subset='price' , inplace=True)\n",
    "    raw_data=raw_data.loc[(raw_data['sectorName'] == 'residential') | (raw_data['sectorName'] == 'transportation')]\n",
    "    raw_data = raw_data.assign(year = raw_data['period'].str[0:4])\n",
    "    raw_data = raw_data.assign(month = raw_data['period'].str[-2:])\n",
    "    return(raw_data[['year', 'month', 'stateid', 'price', 'price-units']])"
   ]
  },
  {
   "cell_type": "code",
   "execution_count": 5,
   "id": "66e6db3c-ebfa-4f7b-9668-eac8a01f4263",
   "metadata": {
    "executionCancelledAt": null,
    "executionTime": 48,
    "lastExecutedAt": 1747401735471,
    "lastExecutedByKernel": "3dd5dda3-6312-4a37-8c92-f3c849112ae9",
    "lastScheduledRunId": null,
    "lastSuccessfullyExecutedCode": "def load(dataframe: pd.DataFrame, file_path: str):\n    \"\"\"Load a DataFrame to a file in either CSV or Parquet format.\"\"\"\n    if file_path.endswith(\".csv\"):\n        dataframe.to_csv(file_path, index=False)\n    elif file_path.endswith(\".parquet\"):\n        dataframe.to_parquet(path=file_path)\n    else:\n        raise Exception(f\"Warning: {filepath} is not a valid file type. Please try again!_\")"
   },
   "outputs": [],
   "source": [
    "def load(dataframe: pd.DataFrame, file_path: str):\n",
    "    \"\"\"Load a DataFrame to a file in either CSV or Parquet format.\"\"\"\n",
    "    if file_path.endswith(\".csv\"):\n",
    "        dataframe.to_csv(file_path, index=False)\n",
    "    elif file_path.endswith(\".parquet\"):\n",
    "        dataframe.to_parquet(path=file_path)\n",
    "    else:\n",
    "        raise Exception(f\"Warning: {filepath} is not a valid file type. Please try again!_\")"
   ]
  },
  {
   "cell_type": "code",
   "execution_count": 6,
   "id": "befd9c30-8fa0-465f-bfc4-675d25d51e62",
   "metadata": {
    "executionCancelledAt": null,
    "executionTime": 428,
    "lastExecutedAt": 1747401735899,
    "lastExecutedByKernel": "3dd5dda3-6312-4a37-8c92-f3c849112ae9",
    "lastScheduledRunId": null,
    "lastSuccessfullyExecutedCode": "# Ready for the moment of truth? It's time to test the functions that you wrote!\nraw_electricity_capability_df = extract_json_data(\"electricity_capability_nested.json\")\nraw_electricity_sales_df = extract_tabular_data(\"electricity_sales.csv\")\n\ncleaned_electricity_sales_df = transform_electricity_sales_data(raw_electricity_sales_df)\n\nload(raw_electricity_capability_df, \"loaded__electricity_capability.parquet\")\nload(cleaned_electricity_sales_df, \"loaded__electricity_sales.csv\")",
    "outputsMetadata": {
     "0": {
      "height": 550,
      "tableState": {
       "customFilter": {
        "const": {
         "type": "boolean",
         "valid": true,
         "value": true
        },
        "id": "c091695c-7d5c-4c00-a4ed-5e5343471baa",
        "nodeType": "const"
       }
      },
      "type": "dataFrame"
     }
    },
    "scrolled": true
   },
   "outputs": [],
   "source": [
    "# Ready for the moment of truth? It's time to test the functions that you wrote!\n",
    "raw_electricity_capability_df = extract_json_data(\"electricity_capability_nested.json\")\n",
    "raw_electricity_sales_df = extract_tabular_data(\"electricity_sales.csv\")\n",
    "\n",
    "cleaned_electricity_sales_df = transform_electricity_sales_data(raw_electricity_sales_df)\n",
    "\n",
    "load(raw_electricity_capability_df, \"loaded__electricity_capability.parquet\")\n",
    "load(cleaned_electricity_sales_df, \"loaded__electricity_sales.csv\")"
   ]
  }
 ],
 "metadata": {
  "colab": {
   "name": "Welcome to DataCamp Workspaces.ipynb",
   "provenance": []
  },
  "editor": "DataLab",
  "kernelspec": {
   "display_name": "Python 3 (ipykernel)",
   "language": "python",
   "name": "python3"
  },
  "language_info": {
   "codemirror_mode": {
    "name": "ipython",
    "version": 3
   },
   "file_extension": ".py",
   "mimetype": "text/x-python",
   "name": "python",
   "nbconvert_exporter": "python",
   "pygments_lexer": "ipython3",
   "version": "3.11.4"
  }
 },
 "nbformat": 4,
 "nbformat_minor": 5
}
